{
  "nbformat": 4,
  "nbformat_minor": 0,
  "metadata": {
    "colab": {
      "name": "1주차 과제_인공지능이 적용된 제품과 서비스",
      "provenance": [],
      "collapsed_sections": [],
      "authorship_tag": "ABX9TyObldgXE4+te9Ft+nE6DsaY",
      "include_colab_link": true
    },
    "kernelspec": {
      "name": "python3",
      "display_name": "Python 3"
    }
  },
  "cells": [
    {
      "cell_type": "markdown",
      "metadata": {
        "id": "view-in-github",
        "colab_type": "text"
      },
      "source": [
        "<a href=\"https://colab.research.google.com/github/Baka98/Park-Hayeon/blob/master/1%EC%A3%BC%EC%B0%A8_%EA%B3%BC%EC%A0%9C_%EC%9D%B8%EA%B3%B5%EC%A7%80%EB%8A%A5%EC%9D%B4_%EC%A0%81%EC%9A%A9%EB%90%9C_%EC%A0%9C%ED%92%88%EA%B3%BC_%EC%84%9C%EB%B9%84%EC%8A%A4.ipynb\" target=\"_parent\"><img src=\"https://colab.research.google.com/assets/colab-badge.svg\" alt=\"Open In Colab\"/></a>"
      ]
    },
    {
      "cell_type": "markdown",
      "metadata": {
        "id": "y7hfqTQLexG-",
        "colab_type": "text"
      },
      "source": [
        "# **인공지능 기술이 적용된 제품 및 서비스** (언어, 음성, 이미지, 자율주행)\n",
        "\n",
        "---\n",
        "\n",
        "\n"
      ]
    },
    {
      "cell_type": "markdown",
      "metadata": {
        "id": "XlKiRD6Cdjc2",
        "colab_type": "text"
      },
      "source": [
        "### **1. 언어**"
      ]
    },
    {
      "cell_type": "markdown",
      "metadata": {
        "id": "Es_rlEFzf8Ll",
        "colab_type": "text"
      },
      "source": [
        "**구글 번역**    \n",
        "Google Translate"
      ]
    },
    {
      "cell_type": "markdown",
      "metadata": {
        "id": "Pdi9-fuhgF7a",
        "colab_type": "text"
      },
      "source": [
        "\n",
        "\n",
        "*   구글 번역이란? \n",
        "    \n",
        " 2007년 구글에서 발표한 번역 서비스로, 텍스트 번역을 위해 무료로 제공하며 세계에서 가장 많이 사용되는 **다언어 기계번역 서비스**이며,\n",
        "    \n",
        "    **구글 번역 API(Google Translate API)**를 구현한 '파이썬 라이브러리' 이다.\n",
        "\n",
        "    약 200억 개의 번역된 단어를 사용하며 텍스트 뿐만 아니라 웹 페이지 등의 번역도 가능하다.\n",
        "  \n"
      ]
    },
    {
      "cell_type": "markdown",
      "metadata": {
        "id": "GPmZdsL6CwgQ",
        "colab_type": "text"
      },
      "source": [
        "[ 1 ] **API(응용 프로그램 프로그래밍 인터페이스)**\n",
        "\n",
        "   응용 프로그램에서 사용할 수 있도록, 운영 체제나 프로그래밍 언어가 제공하는 기능을 제어할 수 있게 만든 인터페이스이다.\n",
        "\n",
        "   안드로이드, iOS용 웹사이트 인터페이스, 모바일 앱, 브라우저 확장과 응용 소프트웨어를 개발하는 데 도움을 준다.\n",
        "\n",
        "   * Google Cloud API Translate 서비스 사용 예제\n",
        "   \n",
        "   ![Google Cloud API Translate 서비스 사용 예제](https://user-images.githubusercontent.com/65804249/82730947-8c8ff800-9d3e-11ea-94df-7cd24706e6f9.JPG)\n",
        "\n"
      ]
    },
    {
      "cell_type": "markdown",
      "metadata": {
        "id": "iv4HvwfSAkQ9",
        "colab_type": "text"
      },
      "source": [
        "\n",
        "\n",
        "[ 2 ]   **통계 기계번역 서비스(SMT)**로 시작 (2006. 04)\n",
        "\n",
        " 통계적 분석으로 기계 학습에 필요한 많은 양의 **말뭉치**에서 모델 파라미터를 학습하여 문장을 번역하는 기술\n",
        " - 1949년 워런 위버에 의해 도입\n",
        " - 1991년 IBM사 토머스 J. 왓슨 연구소에 의해 다시 연구 중\n",
        "\n",
        "+ 구글 번역 팀에 언어학자가 한 명도 없는 이유\n",
        "\n",
        "  ① **말뭉치 치반 기계번역**(CBMT : corpus-based machine translation)\n",
        " - 국제기구, 기업에서 동일한 문서를 여러 언어(A언어, B언어, C언어 등)로 만들고 검색 엔진이 검색한 결과를 바탕으로 번역하는 원리\n",
        " - 두 언어 간의 병렬 말뭉치를 기반으로 비교분석해 번역 결과물을 출력하는 과정을 거친다.\n",
        "\n",
        "  ② **통계적 기계번역**(SMT : statistical machine translation)\n",
        " - 말뭉치를 만드는 원리\n",
        " - [단어-단어] / [구절-구절] 의 사용 빈도를 나타내는 모델을 만들어 어떤 단어·구절의 번역으로 확률적으로 정확한 표현이 선택되면 그것이 배열되는 순서도 마찬가지로 가장 많이 나타나는 순서가 확률적으로 정확하다고 판단하고 번역물을 출력한다.\n",
        "\n"
      ]
    },
    {
      "cell_type": "markdown",
      "metadata": {
        "id": "ZyHYiPMICvFU",
        "colab_type": "text"
      },
      "source": [
        "[ 3 ] **구글 신경 기계 번역(GNMT)**로 전환 (2016. 11)\n",
        "\n",
        "  '인공 신경망 기계식 번역' 기술, 인공지능과 빅데이터를 이용한 새로운 번역 시스템\n",
        "* **신경망 번역**(NMT : Neural Machine Translation) 이란?\n",
        "\n",
        "    인공지능의 핵심 기술인 '**머신 러닝**(기계 학습)'을 활용한 번역 서비스다. 머신 러닝을 통해 생성된 '번역 모델(번역 인공지능)'이 문장 전체의 흐름을 인식하고 문장 속에 담긴 작성자의 의도를 이해해서 번역을 진행한다\n",
        "\n",
        "    ① 인터넷에 기록된 인간이 미리 번역해 놓은 콘텐츠를 **웹 크롤링을 활용해 수집**\n",
        "    \n",
        "    ② 초기 번역 시스템을 구축, **감독학습** 진행\n",
        "    * 구글의 개발자에게 해당 언어의 번역을 제대로 수행하는지 확인받는다.\n",
        "\n",
        "  ③ **비감독학습**을 진행\n",
        "  * 인간의 도움 없이 스스로 특정 언어 데이터를 수집하고 이를 바탕으로 스스로의 성능을 강화한다.\n",
        "\n",
        "\n",
        "* **딥러닝 기술 적용** : 스스로 성장하는 구글 번역\n",
        "\n",
        "     인간이 규칙을 입력하면 인공지능이 스스로 정보를 수집해서 공부하는 형태\n",
        "* **통계적 기계 번역과의 차이점**\n",
        "   \n",
        "     통계적기계번역 ｜ '구'나 '절' 단위로 번역할 결과를 조합하기 때문에 부자연스러운 어감\n",
        "\n",
        "     인공신경망번역 ｜ 단어, 구문 단위가 아니라 '문장' 단위로 인식해 번역한다.\n",
        "     (최대 80% 번역 오류 감소)\n",
        "\n",
        "   * 인간, GNMT, PNMT 번역정확성 비교\n",
        "   ![번역정확성 비교](https://user-images.githubusercontent.com/65804249/82731245-5ce1ef80-9d40-11ea-9e0d-d46b3db5ec94.jpg)\n",
        "\n",
        "* **현재의 한계점**\n",
        "\n",
        "     현재 신경망 번역의 가장 큰 과제는 **문맥 속에 담긴 뜻을 해독하는 것**이다. 문맥의 진정한 의미, 성별 등 고차원적인 부분을 이해하지 못하는 문제를 해결하기 위해 번역 모델의 고도화 작업을 진행하고 있다.\n",
        "\n",
        "\n",
        "\n",
        "\n"
      ]
    },
    {
      "cell_type": "markdown",
      "metadata": {
        "id": "dL8dvLxeCw3o",
        "colab_type": "text"
      },
      "source": [
        "[ 4 ] **기계번역의 한계**와 **궁극적인 목표**\n",
        "\n",
        "[구글 기계번역 책임자 베누고팔 인터뷰](http://weeklybiz.chosun.com/site/data/html_dir/2012/11/02/2012110201300.html)\n",
        "\n",
        "\" **언어가 결코 장애물이 되지 않는 세상**이 되는 것 \"\n",
        "\n",
        "현재 기계 번역의 수준은 인터넷 페이지를 보고 내용을 이해하는 데 충분하지만, 누군가에게 연애 편지를 보낸다거나 계약서를 작성하는 것은 무리다.\n",
        "인간의 모든 표현을 다른 언어로로 전달하는 수준에는 도달하지 못했다.\n",
        "\n",
        "하지만  기계 번역은 인간을 대체하려는 게 아니다. 구글은 전체 인터넷 콘텐츠의 50%가 영어로 되어 있는 반면, 영어를 읽고 이해할 수 있는 사용자는 전체 인터넷 사용자의 20%에 불과한 현실을 해결하기 위해 번역 서비스를 시작한 만큼, 누구나 세계의 모든 정보를 찾아볼 수 있도록 하는 것이고 세계에 있는 수많은 언어 장벽을 치워 세계가 잘 소통토록 하는 것이다."
      ]
    },
    {
      "cell_type": "markdown",
      "metadata": {
        "id": "WCU81k4DBMAM",
        "colab_type": "text"
      },
      "source": [
        "\n",
        "\n",
        "---\n",
        "\n"
      ]
    },
    {
      "cell_type": "markdown",
      "metadata": {
        "id": "CcEJy4pg6nV5",
        "colab_type": "text"
      },
      "source": [
        "\n",
        "### **2. 음성**"
      ]
    },
    {
      "cell_type": "markdown",
      "metadata": {
        "id": "svDL6EpaBjgF",
        "colab_type": "text"
      },
      "source": [
        "**시리**   \n",
        "Siri   \n",
        "Speech Interpretation and Recognition Interface"
      ]
    },
    {
      "cell_type": "markdown",
      "metadata": {
        "id": "kLuGmEiVTT0Z",
        "colab_type": "text"
      },
      "source": [
        "![인공지능 비서]()"
      ]
    },
    {
      "cell_type": "markdown",
      "metadata": {
        "colab_type": "text",
        "id": "KUMUCkVCbZaK"
      },
      "source": [
        "* 시리는 Apple의 소프트웨어 탑재 기기들 전반에서 작동하는 인공지능 개인 비서 응용 프로그램이다.(iOS와 iPadOS, macOS, watchOS, tvOS 등) 인간의 음성을 인식하는 소프트웨어이며, 대화와 명령을 가능하게 해준다. 스마트폰 인공지능의 시작이라고 할 수 있다.\n",
        "\n",
        "* 질문에 답변하고, 권고하며, 동작을 실행하는 **자연어 처리**를 이용한다. \n",
        "\n",
        "*  시리의 등장\n",
        "    \n",
        " - **미국 국방부 방위고등연구계획국(DARPA)** (2003 - 2008)\n",
        "    \n",
        "    인공지능기술 확보를 위해 연구비 2억 달러를 지원한 CALO(Cognitive Assistant that Learns and Organizes)프로젝트의 일환으로 진행되었던 연구 프로젝트였던 시리는 **Siri Inc.** 에서 개발한 소프트웨어로 애플 앱스토어에서 iOS의 어플리케이션이었지만 2010년에 애플에 인수되고 2011년에 iOS5에 처음으로 아이폰 기본 기능으로 포함되었다.(2011. 10. 04 발표)\n",
        " - **뉘앙스 커뮤니케이션**의 음성인식엔진 탑재\n",
        "\n",
        "    ① 사용자의 목소리 녹음 후 애플 서버로 전송 → (뉘앙스 기술)텍스트로 변환\n",
        "    \n",
        "    ② SRI의 인공지능으로 분석하여 동작 결정\n",
        "\n",
        "    ③ 분석 결과에 따라 대답하거나, 앱을 동작시킴\n",
        "       - 과거 작동방법 : 전원 연결, 근접 센서가 막혀있지 않을 때만 가능\n",
        "       - 현재 AP로 A9 탑재된 아이폰 6s 이후 모든 모델은 M프로세서(모션프로세서)가 애플A시리즈에 통합되어 \"시리야\"로 시리를 불러냄\n",
        "\n",
        " - 시리 출시 이후\n",
        "\n",
        "    2016년 Google '구글 홈', Microsoft '인보크', KT '기가지니', SK텔레콤 '누구' 등 국내외 음성기반 서비스 등장"
      ]
    },
    {
      "cell_type": "markdown",
      "metadata": {
        "colab_type": "text",
        "id": "F5IiQZYObZaL"
      },
      "source": [
        "[ 1 ] **자연어 처리 natural language processing**\n",
        "\n",
        "   인공지능 주요 분야 중 하나로, 인간의 언어 형상을 컴퓨터를 이용해 모사하도록 연구하고 구현하였다. 키워드가 아닌 전제 문맥을 파악하여 핵심을 이해하며 한 문장의 문맥만이 아닌 대화의 흐름이 가진 문맥까지 이해한다. 특히 **기계 학습 도구를 많이 사용하는 대표적인 분야**이다.\n",
        "- 연구대상 : 언어\n",
        "  - 언어 자체를 연구하는 '언어학'\n",
        "  - 언어 현상의 내적 기재를 탐구하는 '언어 인지 과학'\n",
        "- 응용 : 정보검색, QA 시스템, 문서 자동 분류, 신문기사 클러스터링, 대화형 Agent 등\n",
        "- **자연어처리 방법** : 형태소 분석 → 품사 부착 → 구절 단위 분석 → 구문 분석\n",
        "- 텍스트의 통사론적 구조를 분석하고 명사, 형용사, 동사와 문장의 일반적인 억양까지 추출한다.\n",
        "  - 억양 : 텍스트가 질문인지, 자신의 감정을 실어 표현하는지를 파악한다.\n"
      ]
    },
    {
      "cell_type": "markdown",
      "metadata": {
        "colab_type": "text",
        "id": "NzOuyQqCbZaN"
      },
      "source": [
        "\n",
        "\n",
        "[ 2 ]   **통계 기계번역 서비스(SMT)**로 시작 (2006. 04)\n",
        "\n",
        " 통계적 분석으로 기계 학습에 필요한 많은 양의 **말뭉치**에서 모델 파라미터를 학습하여 문장을 번역하는 기술\n",
        " - 1949년 워런 위버에 의해 도입\n",
        " - 1991년 IBM사 토머스 J. 왓슨 연구소에 의해 다시 연구 중\n",
        "\n",
        "+ 구글 번역 팀에 언어학자가 한 명도 없는 이유\n",
        "\n",
        "  ① **말뭉치 치반 기계번역**(CBMT : corpus-based machine translation)\n",
        " - 국제기구, 기업에서 동일한 문서를 여러 언어(A언어, B언어, C언어 등)로 만들고 검색 엔진이 검색한 결과를 바탕으로 번역하는 원리\n",
        " - 두 언어 간의 병렬 말뭉치를 기반으로 비교분석해 번역 결과물을 출력하는 과정을 거친다.\n",
        "\n",
        "  ② **통계적 기계번역**(SMT : statistical machine translation)\n",
        " - 말뭉치를 만드는 원리\n",
        " - [단어-단어] / [구절-구절] 의 사용 빈도를 나타내는 모델을 만들어 어떤 단어·구절의 번역으로 확률적으로 정확한 표현이 선택되면 그것이 배열되는 순서도 마찬가지로 가장 많이 나타나는 순서가 확률적으로 정확하다고 판단하고 번역물을 출력한다.\n",
        "\n"
      ]
    }
  ]
}